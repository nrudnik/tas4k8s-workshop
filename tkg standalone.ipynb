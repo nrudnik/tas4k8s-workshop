{
 "cells": [
  {
   "cell_type": "markdown",
   "metadata": {},
   "source": [
    "# Deploying TAS4K8s to TKG standalone on vSphere 6.7U3\n",
    "\n",
    "* TKG 1.1\n",
    "* No load balancer\n",
    "* Uses vsphere CNS through CSI"
   ]
  },
  {
   "cell_type": "code",
   "execution_count": null,
   "metadata": {},
   "outputs": [],
   "source": [
    "#env\n",
    "export TAS_ROOT=~/Downloads/tas-k8s-beta-workshop-tkg/tanzu-application-service\n",
    "export TAS_CONFIG_DIR=~/Downloads/tas-k8s-beta-workshop-tkg/configuration-values\n",
    "export TAS_ARCHIVE=~/Downloads/tanzu-application-service.0.1.0-build.252.tar\n",
    "mkdir -p $TAS_ROOT $TAS_CONFIG_DIR\n",
    "cd $TAS_ROOT"
   ]
  },
  {
   "cell_type": "code",
   "execution_count": null,
   "metadata": {
    "scrolled": true
   },
   "outputs": [],
   "source": [
    "#target the right cluster\n",
    "kubectl config get-contexts"
   ]
  },
  {
   "cell_type": "code",
   "execution_count": null,
   "metadata": {},
   "outputs": [],
   "source": [
    "kubectl config use-context tkg-guest-admin@tkg-guest"
   ]
  },
  {
   "cell_type": "code",
   "execution_count": null,
   "metadata": {},
   "outputs": [],
   "source": [
    "kubectl get all -o wide --all-namespaces"
   ]
  },
  {
   "cell_type": "markdown",
   "metadata": {},
   "source": [
    "# Deploy TAS"
   ]
  },
  {
   "cell_type": "code",
   "execution_count": null,
   "metadata": {},
   "outputs": [],
   "source": [
    "#extract TAS downloaded archive\n",
    "tar -C $TAS_ROOT -xvf $TAS_ARCHIVE "
   ]
  },
  {
   "cell_type": "code",
   "execution_count": null,
   "metadata": {},
   "outputs": [],
   "source": [
    "#remove resource requirements\n",
    "curl https://raw.githubusercontent.com/cloudfoundry/cf-for-k8s/master/config-optional/remove-resource-requirements.yml > $TAS_ROOT/custom-overlays/remove-resource-requirements.yml"
   ]
  },
  {
   "cell_type": "markdown",
   "metadata": {},
   "source": [
    "## Generate config values"
   ]
  },
  {
   "cell_type": "code",
   "execution_count": null,
   "metadata": {},
   "outputs": [],
   "source": [
    "./bin/generate-values.sh -d \"tas-tkg.lan\" > ../configuration-values/deployment-values.yml"
   ]
  },
  {
   "cell_type": "markdown",
   "metadata": {},
   "source": [
    "Add entries for Pivnet registry and your own image registry (place at end of file, or in two separate files, system-registry-values.yml and app-registry-values.yml):\n",
    "```\n",
    "system_registry:\n",
    "  hostname: registry.pivotal.io\n",
    "  username: pivnet-username\n",
    "  password: password\n",
    "\n",
    "app_registry:\n",
    "  hostname: https://index.docker.io/v1/\n",
    "  repository: \"username\"\n",
    "  username: \"uername\"\n",
    "  password: \"password\"\n",
    "```"
   ]
  },
  {
   "cell_type": "code",
   "execution_count": null,
   "metadata": {},
   "outputs": [],
   "source": [
    "#Copy my secrets from pre-existing location\n",
    "cp ~/Documents/app-registry-values.yml $TAS_CONFIG_DIR\n",
    "cp ~/Documents/system-registry-values.yml $TAS_CONFIG_DIR"
   ]
  },
  {
   "cell_type": "markdown",
   "metadata": {},
   "source": [
    "## Default storage class"
   ]
  },
  {
   "cell_type": "code",
   "execution_count": null,
   "metadata": {},
   "outputs": [],
   "source": [
    "kubectl get storageclass"
   ]
  },
  {
   "cell_type": "markdown",
   "metadata": {},
   "source": [
    "TKG uses CNS through the CSI provisioner. Define your default storage class in a new file config-optional/vsphere-csi-storage-class.yaml:\n",
    "\n",
    "```\n",
    "---\n",
    "kind: StorageClass\n",
    "apiVersion: storage.k8s.io/v1\n",
    "metadata:\n",
    "  name: thin\n",
    "  annotations:\n",
    "    storageclass.kubernetes.io/is-default-class: \"true\"\n",
    "provisioner: csi.vsphere.vmware.com\n",
    "parameters:\n",
    "  storagepolicyname: \"k8s-storage-policy\"\n",
    "  fstype: ext4\n",
    "```\n",
    "\n",
    "Perform additional steps in vcenter:\n",
    "* Create new category under \"tags and custom attributes\" assigned to object types Folder, Datastore, Datastore Cluster. Name it \"k8s-storage\"\n",
    "* Pick your datastore -> summary -> Tags, Assign...\n",
    "* Add tag: k8s-storage-mydatastore, pick k8s-storage from category dropdown\n",
    "* Create a vm storage policy named \"k8s-storage-policy\", enable tag based placement rules, add tag rule for k8s-storage category, use storage tagged with, browse tags and select k8s-storage-mydatastore. The desired datastore should appear as compatible.\n"
   ]
  },
  {
   "cell_type": "code",
   "execution_count": null,
   "metadata": {},
   "outputs": [],
   "source": [
    "kapp deploy -a default-storage-class -f config-optional/vsphere-csi-storage-class.yaml -y"
   ]
  },
  {
   "cell_type": "code",
   "execution_count": null,
   "metadata": {
    "scrolled": true
   },
   "outputs": [],
   "source": [
    "#deploy tas\n",
    "./bin/install-tas.sh ../configuration-values"
   ]
  },
  {
   "cell_type": "markdown",
   "metadata": {},
   "source": [
    "### Configure DNS to external IPs of worker nodes"
   ]
  },
  {
   "cell_type": "code",
   "execution_count": null,
   "metadata": {},
   "outputs": [],
   "source": [
    "kubectl get nodes --output='wide'"
   ]
  },
  {
   "cell_type": "markdown",
   "metadata": {},
   "source": [
    "# Tear down environment"
   ]
  },
  {
   "cell_type": "code",
   "execution_count": null,
   "metadata": {},
   "outputs": [],
   "source": [
    "#remove cf app from cluster\n",
    "kapp delete -a cf -y"
   ]
  }
 ],
 "metadata": {
  "kernelspec": {
   "display_name": "Bash",
   "language": "bash",
   "name": "bash"
  },
  "language_info": {
   "codemirror_mode": "shell",
   "file_extension": ".sh",
   "mimetype": "text/x-sh",
   "name": "bash"
  }
 },
 "nbformat": 4,
 "nbformat_minor": 4
}

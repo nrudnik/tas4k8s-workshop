{
 "cells": [
  {
   "cell_type": "markdown",
   "metadata": {},
   "source": [
    "# TAS4K8s on Minikube\n",
    "\n",
    "* Minikube using K8s 1.16.7 on Ubuntu 20.04\n",
    "* Runs within 4 cores and 8GB RAM, increase RAM based on services and app deployments\n",
    "* Push app, scale\n",
    "* Service broker with Minibroker"
   ]
  },
  {
   "cell_type": "code",
   "execution_count": null,
   "metadata": {},
   "outputs": [],
   "source": [
    "#env\n",
    "export TAS_ROOT=~/Downloads/tas-k8s-beta-workshop/tanzu-application-service\n",
    "export TAS_CONFIG_DIR=~/Downloads/tas-k8s-beta-workshop/configuration-values\n",
    "export TAS_ARCHIVE=~/Downloads/tanzu-application-service.0.1.0-build.252.tar\n",
    "mkdir -p $TAS_ROOT $TAS_CONFIG_DIR\n",
    "cd $TAS_ROOT"
   ]
  },
  {
   "cell_type": "code",
   "execution_count": null,
   "metadata": {},
   "outputs": [],
   "source": [
    "#set minikube default driver\n",
    "minikube config set driver docker"
   ]
  },
  {
   "cell_type": "code",
   "execution_count": null,
   "metadata": {
    "scrolled": true
   },
   "outputs": [],
   "source": [
    "minikube status"
   ]
  },
  {
   "cell_type": "code",
   "execution_count": null,
   "metadata": {
    "scrolled": true
   },
   "outputs": [],
   "source": [
    "#create minikube cluster. choosing latest version of K8s as supported by TKGI\n",
    "#note: need at least 6 cpus otherwise istio-telemetry would fail to create.\n",
    "#Ensure remove-resources.yml during TAS deployment is in the right folder\n",
    "minikube start --cpus=4 --memory=12g --kubernetes-version=1.16.7 --driver=docker \n",
    "#--container-runtime=containerd #pks 1.6.2 = k8s 1.15.10, 1.7.0 = k8s 1.16.7"
   ]
  },
  {
   "cell_type": "code",
   "execution_count": null,
   "metadata": {},
   "outputs": [],
   "source": [
    "kubectl config use-context minikube"
   ]
  },
  {
   "cell_type": "markdown",
   "metadata": {},
   "source": [
    "# Deploy TAS"
   ]
  },
  {
   "cell_type": "code",
   "execution_count": null,
   "metadata": {},
   "outputs": [],
   "source": [
    "#extract TAS downloaded archive\n",
    "tar -C $TAS_ROOT -xvf $TAS_ARCHIVE "
   ]
  },
  {
   "cell_type": "code",
   "execution_count": null,
   "metadata": {},
   "outputs": [],
   "source": [
    "#remove resource requirements\n",
    "curl https://raw.githubusercontent.com/cloudfoundry/cf-for-k8s/master/config-optional/remove-resource-requirements.yml > $TAS_ROOT/custom-overlays/remove-resource-requirements.yml"
   ]
  },
  {
   "cell_type": "code",
   "execution_count": null,
   "metadata": {},
   "outputs": [],
   "source": [
    "#Do this if you want to allow istio ingress to use an IaaS provided LB. Yes, minikube supports it.\n",
    "#Don't forget to run \"minikube tunnel\" as tas is being deployed\n",
    "mv ./custom-overlays/replace-loadbalancer-with-clusterip.yaml ./config-optional/"
   ]
  },
  {
   "cell_type": "markdown",
   "metadata": {},
   "source": [
    "## Generate config values"
   ]
  },
  {
   "cell_type": "code",
   "execution_count": null,
   "metadata": {},
   "outputs": [],
   "source": [
    "./bin/generate-values.sh -d \"vcap.me\" > ../configuration-values/deployment-values.yml"
   ]
  },
  {
   "cell_type": "markdown",
   "metadata": {},
   "source": [
    "Add entries for Pivnet registry and your own image registry (place at end of file, or in two separate files, system-registry-values.yml and app-registry-values.yml):\n",
    "```\n",
    "system_registry:\n",
    "  hostname: registry.pivotal.io\n",
    "  username: pivnet-username\n",
    "  password: password\n",
    "\n",
    "app_registry:\n",
    "  hostname: https://index.docker.io/v1/\n",
    "  repository: \"username\"\n",
    "  username: \"uername\"\n",
    "  password: \"password\"\n",
    "```"
   ]
  },
  {
   "cell_type": "code",
   "execution_count": null,
   "metadata": {},
   "outputs": [],
   "source": [
    "#Copy my secrets from pre-existing location\n",
    "cp ~/Documents/app-registry-values.yml $TAS_CONFIG_DIR\n",
    "cp ~/Documents/system-registry-values.yml $TAS_CONFIG_DIR"
   ]
  },
  {
   "cell_type": "markdown",
   "metadata": {},
   "source": [
    "### Ready to deploy TAS. Run minikube load balancer\n",
    "Run this in another shell as it is a blocking call and requires permission. TAS deployment will not complete unless this is available. It can be run after deployment starts.\n",
    "\n",
    "```minikube tunnel```"
   ]
  },
  {
   "cell_type": "code",
   "execution_count": null,
   "metadata": {
    "scrolled": true
   },
   "outputs": [],
   "source": [
    "#deploy tas\n",
    "./bin/install-tas.sh ../configuration-values"
   ]
  },
  {
   "cell_type": "markdown",
   "metadata": {},
   "source": [
    "### Configure DNS\n",
    "Point dns wildcard to placehoder domain to resolve to minikube instance IP\n"
   ]
  },
  {
   "cell_type": "code",
   "execution_count": null,
   "metadata": {},
   "outputs": [],
   "source": [
    "minikube ip"
   ]
  },
  {
   "cell_type": "markdown",
   "metadata": {},
   "source": [
    "# Deploy some stuff"
   ]
  },
  {
   "cell_type": "code",
   "execution_count": null,
   "metadata": {},
   "outputs": [],
   "source": [
    "cf api --skip-ssl-validation https://api.vcap.me"
   ]
  },
  {
   "cell_type": "code",
   "execution_count": null,
   "metadata": {
    "scrolled": true
   },
   "outputs": [],
   "source": [
    "cf auth admin \"$(bosh interpolate ../configuration-values/deployment-values.yml --path /cf_admin_password)\""
   ]
  },
  {
   "cell_type": "code",
   "execution_count": null,
   "metadata": {
    "scrolled": true
   },
   "outputs": [],
   "source": [
    "#needed in beta for now\n",
    "cf enable-feature-flag diego_docker"
   ]
  },
  {
   "cell_type": "code",
   "execution_count": null,
   "metadata": {
    "scrolled": true
   },
   "outputs": [],
   "source": [
    "cf create-org test-org\n",
    "cf create-space -o test-org test-space\n",
    "cf target -o test-org -s test-space"
   ]
  },
  {
   "cell_type": "code",
   "execution_count": null,
   "metadata": {
    "scrolled": true
   },
   "outputs": [],
   "source": [
    "#push sample application\n",
    "cf push demo-app -o rseroter/simple-k8s-app-kpack"
   ]
  },
  {
   "cell_type": "markdown",
   "metadata": {},
   "source": [
    "## Service Broker with Minibroker"
   ]
  },
  {
   "cell_type": "code",
   "execution_count": null,
   "metadata": {},
   "outputs": [],
   "source": [
    "kubectl create ns minibroker"
   ]
  },
  {
   "cell_type": "code",
   "execution_count": null,
   "metadata": {},
   "outputs": [],
   "source": [
    "helm repo add minibroker https://minibroker.blob.core.windows.net/charts"
   ]
  },
  {
   "cell_type": "code",
   "execution_count": null,
   "metadata": {},
   "outputs": [],
   "source": [
    "helm repo update"
   ]
  },
  {
   "cell_type": "code",
   "execution_count": null,
   "metadata": {},
   "outputs": [],
   "source": [
    "#install into desired namespace. not using service catalog because we will use TAS marketplace\n",
    "helm install minibroker --namespace minibroker minibroker/minibroker \\\n",
    "  --set \"deployServiceCatalog=false\" --set \"defaultNamespace=minibroker\""
   ]
  },
  {
   "cell_type": "code",
   "execution_count": null,
   "metadata": {
    "scrolled": true
   },
   "outputs": [],
   "source": [
    "kubectl get all --namespace minibroker"
   ]
  },
  {
   "cell_type": "code",
   "execution_count": null,
   "metadata": {
    "scrolled": false
   },
   "outputs": [],
   "source": [
    "cf create-service-broker minibroker user pass http://minibroker-minibroker.minibroker.svc.cluster.local"
   ]
  },
  {
   "cell_type": "code",
   "execution_count": null,
   "metadata": {},
   "outputs": [],
   "source": [
    "cf service-brokers"
   ]
  },
  {
   "cell_type": "code",
   "execution_count": null,
   "metadata": {
    "scrolled": true
   },
   "outputs": [],
   "source": [
    "#see all the services the broker provides\n",
    "cf service-access"
   ]
  },
  {
   "cell_type": "code",
   "execution_count": null,
   "metadata": {},
   "outputs": [],
   "source": [
    "cf enable-service-access redis\n",
    "cf enable-service-access mongodb\n",
    "cf enable-service-access mariadb"
   ]
  },
  {
   "cell_type": "code",
   "execution_count": null,
   "metadata": {
    "scrolled": true
   },
   "outputs": [],
   "source": [
    "cf marketplace"
   ]
  },
  {
   "cell_type": "code",
   "execution_count": null,
   "metadata": {},
   "outputs": [],
   "source": [
    "cf create-service redis 5-0-7 redis-svc"
   ]
  },
  {
   "cell_type": "code",
   "execution_count": null,
   "metadata": {
    "scrolled": true
   },
   "outputs": [],
   "source": [
    "cf create-service mariadb 10-3-22 mariadb-svc -c '{\"db\": {\"name\": \"my_database\"}}'"
   ]
  },
  {
   "cell_type": "code",
   "execution_count": null,
   "metadata": {},
   "outputs": [],
   "source": [
    "cf services"
   ]
  },
  {
   "cell_type": "code",
   "execution_count": null,
   "metadata": {
    "scrolled": true
   },
   "outputs": [],
   "source": [
    "kubectl get pods --namespace minibroker"
   ]
  },
  {
   "cell_type": "code",
   "execution_count": null,
   "metadata": {},
   "outputs": [],
   "source": [
    "kubectl get svc --namespace minibroker"
   ]
  },
  {
   "cell_type": "markdown",
   "metadata": {},
   "source": [
    "### Test mariadb service\n",
    "Edit mariadb service - change from ClusterIP to NodePort\n",
    "\n",
    "```\n",
    "kubectl port-forward <pod name of master> 3306:3306 --namespace minibroker &\n",
    "```"
   ]
  },
  {
   "cell_type": "code",
   "execution_count": null,
   "metadata": {},
   "outputs": [],
   "source": [
    "cf create-service-key mariadb-svc key"
   ]
  },
  {
   "cell_type": "code",
   "execution_count": null,
   "metadata": {
    "scrolled": true
   },
   "outputs": [],
   "source": [
    "cf service-key mariadb-svc key"
   ]
  },
  {
   "cell_type": "markdown",
   "metadata": {},
   "source": [
    "### Connect to MariaDB through the port forward on your host\n",
    "\n",
    "```mysql -h localhost --protocol=TCP -u root -p<password from service key>```"
   ]
  },
  {
   "cell_type": "markdown",
   "metadata": {},
   "source": [
    "### Bind service to an app\n",
    "\n",
    "* dbbaskette/todos-ui\n",
    "* cf push todos-app\n",
    "* edit manifest. Add services: mariadb-svc\n",
    "* "
   ]
  },
  {
   "cell_type": "markdown",
   "metadata": {},
   "source": [
    "# Tear down environment"
   ]
  },
  {
   "cell_type": "code",
   "execution_count": null,
   "metadata": {},
   "outputs": [],
   "source": [
    "#remove cf namespace from cluster\n",
    "kapp delete -a cf -y"
   ]
  },
  {
   "cell_type": "code",
   "execution_count": null,
   "metadata": {},
   "outputs": [],
   "source": [
    "#stop minikube cluster\n",
    "minikube stop"
   ]
  },
  {
   "cell_type": "code",
   "execution_count": null,
   "metadata": {},
   "outputs": [],
   "source": [
    "#delete minikube cluster - clears state\n",
    "minikube delete"
   ]
  },
  {
   "cell_type": "code",
   "execution_count": null,
   "metadata": {},
   "outputs": [],
   "source": [
    "#delete all local clusters and profiles\n",
    "minikube delete --all"
   ]
  }
 ],
 "metadata": {
  "kernelspec": {
   "display_name": "Bash",
   "language": "bash",
   "name": "bash"
  },
  "language_info": {
   "codemirror_mode": "shell",
   "file_extension": ".sh",
   "mimetype": "text/x-sh",
   "name": "bash"
  }
 },
 "nbformat": 4,
 "nbformat_minor": 4
}
